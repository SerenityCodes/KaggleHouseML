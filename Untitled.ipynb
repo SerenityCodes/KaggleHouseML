{
 "cells": [
  {
   "cell_type": "code",
   "execution_count": null,
   "metadata": {},
   "outputs": [],
   "source": [
    "from sklearn.model_selection import GridSearchCV, RandomizedSearchCV, cross_val_score\n",
    "from sklearn.linear_model import LinearRegression, SGDRegressor\n",
    "from sklearn.tree import DecisionTreeRegressor\n",
    "from sklearn.ensemble import RandomForestRegressor\n",
    "from sklearn.svm import LinearSVR, SVR\n",
    "from sklearn.neighbors import KNeighborsRegressor\n",
    "from sklearn.base import BaseEstimator, TransformerMixin\n",
    "from sklearn.decomposition import PCA\n",
    "import pandas as pd\n",
    "import kaggle\n",
    "import os\n",
    "import matplotlib.pyplot as plt\n",
    "import seaborn as sns\n",
    "import numpy as np\n",
    "from dataprep.eda import create_report, plot"
   ]
  },
  {
   "cell_type": "code",
   "execution_count": null,
   "metadata": {},
   "outputs": [],
   "source": [
    "def download_data():\n",
    "    comp = kaggle.KaggleApi()\n",
    "    comp.authenticate()\n",
    "    comp.competition_download_files(competition=\"house-prices-advanced-regression-techniques\")"
   ]
  },
  {
   "cell_type": "code",
   "execution_count": null,
   "metadata": {},
   "outputs": [],
   "source": [
    "train = pd.read_csv(\"train.csv\", index_col=0)\n",
    "test = pd.read_csv(\"test.csv\", index_col=0)"
   ]
  },
  {
   "cell_type": "code",
   "execution_count": null,
   "metadata": {},
   "outputs": [],
   "source": [
    "print(train.shape)\n",
    "print(test.shape)"
   ]
  },
  {
   "cell_type": "code",
   "execution_count": null,
   "metadata": {},
   "outputs": [],
   "source": [
    "train"
   ]
  },
  {
   "cell_type": "code",
   "execution_count": null,
   "metadata": {},
   "outputs": [],
   "source": [
    "create_report(df=train)"
   ]
  },
  {
   "cell_type": "code",
   "execution_count": null,
   "metadata": {},
   "outputs": [],
   "source": [
    "df_experimental = pd.DataFrame()\n",
    "df_experimental[\"MSSubClass\"] = train[\"MSSubClass\"]"
   ]
  },
  {
   "cell_type": "code",
   "execution_count": null,
   "metadata": {},
   "outputs": [],
   "source": [
    "values = [20, 30, 40, 45, 50, 60, 70, 75, 80, 85, 90, 120, 150, 160, 180, 190]\n",
    "\n",
    "for value in values:\n",
    "    df_experimental.loc[df_experimental[\"MSSubClass\"] == value, \"MSSubClass\"] = values.index(value)"
   ]
  },
  {
   "cell_type": "code",
   "execution_count": null,
   "metadata": {},
   "outputs": [],
   "source": [
    "df_experimental[\"MSSubClass\"].unique()"
   ]
  },
  {
   "cell_type": "code",
   "execution_count": null,
   "metadata": {},
   "outputs": [],
   "source": [
    "plot(df_experimental, \"MSSubClass\")"
   ]
  },
  {
   "cell_type": "code",
   "execution_count": null,
   "metadata": {},
   "outputs": [],
   "source": [
    "df_experimental[\"MSZoning\"] = train[\"MSZoning\"]\n",
    "df_experimental[\"SalePrice\"] = train[\"SalePrice\"]"
   ]
  },
  {
   "cell_type": "code",
   "execution_count": null,
   "metadata": {},
   "outputs": [],
   "source": [
    "plot(df_experimental, \"MSZoning\")"
   ]
  },
  {
   "cell_type": "code",
   "execution_count": null,
   "metadata": {},
   "outputs": [],
   "source": [
    "df_experimental[\"Residential\"] = np.where((df_experimental[\"MSZoning\"] == \"RL\") | (df_experimental[\"MSZoning\"] == \"RM\"), 1, 0)\n",
    "df_experimental = df_experimental.drop(\"MSZoning\", axis=1)"
   ]
  },
  {
   "cell_type": "code",
   "execution_count": null,
   "metadata": {},
   "outputs": [],
   "source": [
    "df_experimental[\"LotFrontage\"] = train[\"LotFrontage\"]\n",
    "df_experimental[\"LotArea\"] = train[\"LotArea\"]"
   ]
  },
  {
   "cell_type": "code",
   "execution_count": null,
   "metadata": {},
   "outputs": [],
   "source": [
    "plot(train, \"Street\")"
   ]
  },
  {
   "cell_type": "code",
   "execution_count": null,
   "metadata": {},
   "outputs": [],
   "source": [
    "df_experimental[\"Paved\"] = np.where(train[\"Street\"] == \"Pave\", 1, 0)"
   ]
  },
  {
   "cell_type": "code",
   "execution_count": null,
   "metadata": {},
   "outputs": [],
   "source": [
    "df_experimental"
   ]
  },
  {
   "cell_type": "code",
   "execution_count": null,
   "metadata": {},
   "outputs": [],
   "source": [
    "plot(train, \"Alley\")"
   ]
  },
  {
   "cell_type": "code",
   "execution_count": null,
   "metadata": {},
   "outputs": [],
   "source": [
    "# Probably won't include Alley\n",
    "'''\n",
    "df_experimental[\"Alley\"] = train[\"Alley\"]\n",
    "df_experimental[\"Alley\"] = df_experimental[\"Alley\"].fillna(0)\n",
    "df_experimental[\"Alley\"] = np.where((df_experimental[\"Alley\"] == \"Grvl\") | (df_experimental[\"Alley\"] == \"Pave\"), 1, 0)\n",
    "'''"
   ]
  },
  {
   "cell_type": "code",
   "execution_count": null,
   "metadata": {},
   "outputs": [],
   "source": [
    "df_experimental.head()"
   ]
  },
  {
   "cell_type": "code",
   "execution_count": null,
   "metadata": {},
   "outputs": [],
   "source": [
    "plot(train, \"LotShape\")"
   ]
  },
  {
   "cell_type": "code",
   "execution_count": null,
   "metadata": {},
   "outputs": [],
   "source": [
    "df_experimental[\"LotShape\"] = train[\"LotShape\"]\n",
    "df_experimental[\"RegularLotShape\"] = np.where(df_experimental[\"LotShape\"] == \"Reg\", 1, 0)\n",
    "df_experimental = df_experimental.drop(\"LotShape\", axis=1)\n",
    "df_experimental[\"RegularLotShape\"].unique()"
   ]
  },
  {
   "cell_type": "code",
   "execution_count": null,
   "metadata": {},
   "outputs": [],
   "source": [
    "df_experimental.head()"
   ]
  },
  {
   "cell_type": "code",
   "execution_count": null,
   "metadata": {},
   "outputs": [],
   "source": [
    "plot(train, \"LandContour\")"
   ]
  },
  {
   "cell_type": "code",
   "execution_count": null,
   "metadata": {},
   "outputs": [],
   "source": [
    "df_experimental[\"LandContour\"] = train[\"LandContour\"]\n",
    "df_experimental[\"LevelContour\"] = np.where(df_experimental[\"LandContour\"] == \"Lvl\", 1, 0)\n",
    "df_experimental = df_experimental.drop(\"LandContour\", axis=1)\n",
    "df_experimental.head()"
   ]
  },
  {
   "cell_type": "code",
   "execution_count": null,
   "metadata": {},
   "outputs": [],
   "source": [
    "plot(train, \"Utilities\")"
   ]
  },
  {
   "cell_type": "code",
   "execution_count": null,
   "metadata": {},
   "outputs": [],
   "source": [
    "df_experimental[\"Utilities\"] = train[\"Utilities\"]\n",
    "df_experimental[\"Utilities\"] = df_experimental[\"Utilities\"].fillna(0)\n",
    "df_experimental[\"AllUtilities\"] = np.where(df_experimental[\"Utilities\"] == \"AllPub\", 1, 0)\n",
    "df_experimental = df_experimental.drop(\"Utilities\", axis=1)\n",
    "df_experimental.head()"
   ]
  },
  {
   "cell_type": "code",
   "execution_count": null,
   "metadata": {},
   "outputs": [],
   "source": [
    "plot(train, \"LotConfig\")"
   ]
  },
  {
   "cell_type": "code",
   "execution_count": null,
   "metadata": {},
   "outputs": [],
   "source": [
    "df_experimental[\"LotConfig\"] = train[\"LotConfig\"]\n",
    "df_experimental[\"InsideStreet\"] = np.where(train[\"LotConfig\"] == \"Inside\", 1, 0)\n",
    "df_experimental = df_experimental.drop(\"LotConfig\", axis=1)\n",
    "df_experimental.head()"
   ]
  },
  {
   "cell_type": "code",
   "execution_count": null,
   "metadata": {},
   "outputs": [],
   "source": [
    "plot(train, \"BldgType\")"
   ]
  },
  {
   "cell_type": "code",
   "execution_count": null,
   "metadata": {},
   "outputs": [],
   "source": [
    "df_experimental[\"SingleFam\"] = np.where(train[\"BldgType\"] == \"1Fam\", 1, 0)\n",
    "df_experimental"
   ]
  },
  {
   "cell_type": "code",
   "execution_count": null,
   "metadata": {},
   "outputs": [],
   "source": [
    "plot(train, \"YearBuilt\")"
   ]
  },
  {
   "cell_type": "code",
   "execution_count": null,
   "metadata": {},
   "outputs": [],
   "source": [
    "years = train[\"YearBuilt\"].unique()\n",
    "years.sort()\n",
    "years"
   ]
  },
  {
   "cell_type": "code",
   "execution_count": null,
   "metadata": {},
   "outputs": [],
   "source": [
    "df_experimental[\"Age\"] = list(abs(train[\"YearBuilt\"] - train[\"YearRemodAdd\"]))\n",
    "df_experimental.head()"
   ]
  },
  {
   "cell_type": "code",
   "execution_count": null,
   "metadata": {},
   "outputs": [],
   "source": [
    "df_experimental[\"Age\"].unique()"
   ]
  },
  {
   "cell_type": "code",
   "execution_count": null,
   "metadata": {},
   "outputs": [],
   "source": [
    "df_experimental[\"OverallQual\"] = train[\"OverallQual\"]\n",
    "df_experimental[\"OverallCond\"] = train[\"OverallCond\"]"
   ]
  },
  {
   "cell_type": "code",
   "execution_count": null,
   "metadata": {},
   "outputs": [],
   "source": [
    "plot(train, \"RoofStyle\")"
   ]
  },
  {
   "cell_type": "code",
   "execution_count": null,
   "metadata": {},
   "outputs": [],
   "source": [
    "plot(train, \"ExterQual\")"
   ]
  },
  {
   "cell_type": "code",
   "execution_count": null,
   "metadata": {},
   "outputs": [],
   "source": [
    "exter_columns = [\"ExterQual\", \"ExterCond\"]\n",
    "exterqual_dict = {\n",
    "    \"Ex\": 5,\n",
    "    \"Gd\": 4,\n",
    "    \"TA\": 3,\n",
    "    \"Fa\": 2,\n",
    "    \"Po\": 1\n",
    "}\n",
    "\n",
    "for column in exter_columns:\n",
    "    df_experimental[column] = train[column]\n",
    "    for key in exterqual_dict:\n",
    "        df_experimental.loc[df_experimental[column] == key, column] = exterqual_dict[key]\n",
    "\n",
    "df_experimental"
   ]
  },
  {
   "cell_type": "code",
   "execution_count": null,
   "metadata": {},
   "outputs": [],
   "source": [
    "bsmt_columns = [\"BsmtQual\", \"BsmtCond\"]\n",
    "df_experimental[\"FinalBsmtQual\"] = np.zeros((1460, 1))\n",
    "\n",
    "for column in bsmt_columns:\n",
    "    df_experimental[column] = train[column]\n",
    "    df_experimental[column] = df_experimental[column].fillna(0)\n",
    "\n",
    "    for key in exterqual_dict:\n",
    "        df_experimental.loc[df_experimental[column] == key, column] = exterqual_dict[key]\n",
    "    df_experimental[\"FinalBsmtQual\"] += df_experimental[column]\n",
    "    df_experimental = df_experimental.drop(column, axis=1)\n",
    "df_experimental"
   ]
  },
  {
   "cell_type": "code",
   "execution_count": null,
   "metadata": {},
   "outputs": [],
   "source": [
    "bst_exposure_dict = {\n",
    "    \"Gd\": 4,\n",
    "    \"Av\": 3,\n",
    "    \"Mn\": 2,\n",
    "    \"No\": 1\n",
    "}\n",
    "\n",
    "df_experimental[\"BsmtExposure\"] = train[\"BsmtExposure\"]\n",
    "\n",
    "for key in bst_exposure_dict:\n",
    "    df_experimental.loc[df_experimental[\"BsmtExposure\"] == key, \"BsmtExposure\"] = bst_exposure_dict[key]\n",
    "\n",
    "df_experimental[\"FinalBsmtQual\"] += df_experimental[\"BsmtExposure\"]\n",
    "df_experimental = df_experimental.drop(\"BsmtExposure\", axis=1)\n",
    "\n",
    "df_experimental"
   ]
  },
  {
   "cell_type": "code",
   "execution_count": null,
   "metadata": {},
   "outputs": [],
   "source": [
    "bsmt_type_dict = {\n",
    "    \"GLQ\": 6,\n",
    "    \"ALQ\": 5,\n",
    "    \"BLQ\": 4,\n",
    "    \"Rec\": 3,\n",
    "    \"LwQ\": 2,\n",
    "    \"Unf\": 1\n",
    "}\n",
    "\n",
    "for i in range(1, 3):\n",
    "    df_experimental[f\"BsmtFinType{i}\"] = train[f\"BsmtFinType{i}\"]\n",
    "    df_experimental[f\"BsmtFinType{i}\"] = df_experimental[f\"BsmtFinType{i}\"].fillna(0)\n",
    "\n",
    "    for key in bsmt_type_dict:\n",
    "        df_experimental.loc[df_experimental[f\"BsmtFinType{i}\"] == key, f\"BsmtFinType{i}\"] = bsmt_type_dict[key]\n",
    "\n",
    "    df_experimental[\"FinalBsmtQual\"] += df_experimental[f\"BsmtFinType{i}\"]\n",
    "    df_experimental = df_experimental.drop(f\"BsmtFinType{i}\", axis=1)\n",
    "df_experimental"
   ]
  },
  {
   "cell_type": "code",
   "execution_count": null,
   "metadata": {},
   "outputs": [],
   "source": [
    "df_experimental[\"BsmtSF\"] = train[\"TotalBsmtSF\"]"
   ]
  },
  {
   "cell_type": "code",
   "execution_count": null,
   "metadata": {},
   "outputs": [],
   "source": [
    "df_experimental[\"HeatingQual\"] = train[\"HeatingQC\"]\n",
    "\n",
    "for key in exterqual_dict:\n",
    "    df_experimental.loc[df_experimental[\"HeatingQual\"] == key, \"HeatingQual\"] = exterqual_dict[key]\n",
    "\n",
    "df_experimental"
   ]
  },
  {
   "cell_type": "code",
   "execution_count": null,
   "metadata": {},
   "outputs": [],
   "source": [
    "df_experimental[\"CentralAir\"] = np.where(train[\"CentralAir\"] == \"Y\", 1, 0)"
   ]
  },
  {
   "cell_type": "code",
   "execution_count": null,
   "metadata": {},
   "outputs": [],
   "source": [
    "electrical_dict = {\n",
    "    \"SBrkr\": 4,\n",
    "    \"FuseA\": 3,\n",
    "    \"FuseF\": 2,\n",
    "    \"FuseP\": 1,\n",
    "    \"Mix\": 2\n",
    "}\n",
    "\n",
    "df_experimental[\"ElectricQC\"] = train[\"Electrical\"]\n",
    "\n",
    "for key in electrical_dict:\n",
    "    df_experimental.loc[df_experimental[\"ElectricQC\"] == key, \"ElectricQC\"] = electrical_dict[key]\n",
    "\n",
    "df_experimental"
   ]
  },
  {
   "cell_type": "code",
   "execution_count": null,
   "metadata": {},
   "outputs": [],
   "source": [
    "df_experimental[\"TotalSF\"] = train[\"1stFlrSF\"] + train[\"2ndFlrSF\"]\n",
    "# TODO Add LowQualFinSF to this equation somehow"
   ]
  },
  {
   "cell_type": "code",
   "execution_count": null,
   "metadata": {},
   "outputs": [],
   "source": [
    "df_experimental"
   ]
  },
  {
   "cell_type": "code",
   "execution_count": null,
   "metadata": {},
   "outputs": [],
   "source": [
    "df_experimental[\"Bathrooms\"] = train[\"FullBath\"] + (train[\"HalfBath\"] / 2)\n",
    "# TODO Potentially add basement bathrooms and bedrooms\n",
    "df_experimental"
   ]
  },
  {
   "cell_type": "code",
   "execution_count": null,
   "metadata": {},
   "outputs": [],
   "source": [
    "df_experimental[\"Bedrooms\"] = train[\"BedroomAbvGr\"]\n",
    "df_experimental"
   ]
  },
  {
   "cell_type": "code",
   "execution_count": null,
   "metadata": {},
   "outputs": [],
   "source": [
    "plot(train, \"KitchenQual\")"
   ]
  },
  {
   "cell_type": "code",
   "execution_count": null,
   "metadata": {},
   "outputs": [],
   "source": [
    "kitchen_dict = {\n",
    "    \"Ex\": 5,\n",
    "    \"Gd\": 4,\n",
    "    \"TA\": 3,\n",
    "    \"Fa\": 2,\n",
    "    \"Po\": 1\n",
    "}\n",
    "\n",
    "df_experimental[\"\"]"
   ]
  }
 ],
 "metadata": {
  "kernelspec": {
   "display_name": "Python 3",
   "language": "python",
   "name": "python3"
  },
  "language_info": {
   "codemirror_mode": {
    "name": "ipython",
    "version": 3
   },
   "file_extension": ".py",
   "mimetype": "text/x-python",
   "name": "python",
   "nbconvert_exporter": "python",
   "pygments_lexer": "ipython3",
   "version": "3.8.3-final"
  }
 },
 "nbformat": 4,
 "nbformat_minor": 4
}